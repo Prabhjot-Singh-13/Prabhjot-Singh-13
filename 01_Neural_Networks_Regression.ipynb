{
  "nbformat": 4,
  "nbformat_minor": 0,
  "metadata": {
    "colab": {
      "provenance": [],
      "authorship_tag": "ABX9TyN2i+VyltxrzcYOoB8VQq5j",
      "include_colab_link": true
    },
    "kernelspec": {
      "name": "python3",
      "display_name": "Python 3"
    },
    "language_info": {
      "name": "python"
    }
  },
  "cells": [
    {
      "cell_type": "markdown",
      "metadata": {
        "id": "view-in-github",
        "colab_type": "text"
      },
      "source": [
        "<a href=\"https://colab.research.google.com/github/Prabhjot-Singh-13/Prabhjot-Singh-13/blob/main/01_Neural_Networks_Regression.ipynb\" target=\"_parent\"><img src=\"https://colab.research.google.com/assets/colab-badge.svg\" alt=\"Open In Colab\"/></a>"
      ]
    },
    {
      "cell_type": "markdown",
      "source": [
        "# **REGRESSION**\n",
        "Regression is a statistical method used to analyze the relationship between variables, aiming to predict the value of one variable based on the values of others. It seeks to find the best-fit line or curve that describes the pattern of the data points.\n",
        "\n",
        "We will cover\n",
        "* Artitecture of neural regresion model including input and output shapes\n",
        "*Creating the custom data to view and fit\n",
        "*Steps in modelling >Creating>Compiling>Fitting>evaluating model\n",
        "*Different evaluation method\n",
        "*Saving and loading Models\n",
        "\n"
      ],
      "metadata": {
        "id": "DQ_VGU4KUtlK"
      }
    },
    {
      "cell_type": "markdown",
      "source": [
        "#INPUT AND OUTPUT OF THE ALGORITHUM\n",
        "*Independent varibles(Features) converted into numerical encoding(one hot)\n",
        "\n",
        "*Embedding ,wieghts or feature vectors all are same\n",
        "\n",
        "Input layer shape>\n",
        "Hidden layer>\n",
        "Neuron per layer>\n",
        "Output layer shape>\n",
        "Hidden activation>\n",
        "Output activation>\n",
        "Loss function>\n",
        "Optimizer>\n",
        "\n"
      ],
      "metadata": {
        "id": "uOrvSfeoWVHn"
      }
    },
    {
      "cell_type": "code",
      "source": [
        "#importing tensorflow\n",
        "import tensorflow as tf\n",
        "from tensorflow import keras\n",
        "import numpy as np\n",
        "import pandas as pd\n",
        "import matplotlib.pyplot as plt"
      ],
      "metadata": {
        "id": "50_1UhZuWlT9"
      },
      "execution_count": 43,
      "outputs": []
    },
    {
      "cell_type": "code",
      "source": [
        "#Importing dataset\n",
        "from google.colab import files\n",
        "uploaded = files.upload()"
      ],
      "metadata": {
        "colab": {
          "base_uri": "https://localhost:8080/",
          "height": 72
        },
        "id": "o1lFqJLgbquq",
        "outputId": "59687ecd-581f-49c4-89b8-5be521be14b7"
      },
      "execution_count": 44,
      "outputs": [
        {
          "output_type": "display_data",
          "data": {
            "text/plain": [
              "<IPython.core.display.HTML object>"
            ],
            "text/html": [
              "\n",
              "     <input type=\"file\" id=\"files-652ba24f-5a1f-46b6-9df7-97ca6b6d1980\" name=\"files[]\" multiple disabled\n",
              "        style=\"border:none\" />\n",
              "     <output id=\"result-652ba24f-5a1f-46b6-9df7-97ca6b6d1980\">\n",
              "      Upload widget is only available when the cell has been executed in the\n",
              "      current browser session. Please rerun this cell to enable.\n",
              "      </output>\n",
              "      <script>// Copyright 2017 Google LLC\n",
              "//\n",
              "// Licensed under the Apache License, Version 2.0 (the \"License\");\n",
              "// you may not use this file except in compliance with the License.\n",
              "// You may obtain a copy of the License at\n",
              "//\n",
              "//      http://www.apache.org/licenses/LICENSE-2.0\n",
              "//\n",
              "// Unless required by applicable law or agreed to in writing, software\n",
              "// distributed under the License is distributed on an \"AS IS\" BASIS,\n",
              "// WITHOUT WARRANTIES OR CONDITIONS OF ANY KIND, either express or implied.\n",
              "// See the License for the specific language governing permissions and\n",
              "// limitations under the License.\n",
              "\n",
              "/**\n",
              " * @fileoverview Helpers for google.colab Python module.\n",
              " */\n",
              "(function(scope) {\n",
              "function span(text, styleAttributes = {}) {\n",
              "  const element = document.createElement('span');\n",
              "  element.textContent = text;\n",
              "  for (const key of Object.keys(styleAttributes)) {\n",
              "    element.style[key] = styleAttributes[key];\n",
              "  }\n",
              "  return element;\n",
              "}\n",
              "\n",
              "// Max number of bytes which will be uploaded at a time.\n",
              "const MAX_PAYLOAD_SIZE = 100 * 1024;\n",
              "\n",
              "function _uploadFiles(inputId, outputId) {\n",
              "  const steps = uploadFilesStep(inputId, outputId);\n",
              "  const outputElement = document.getElementById(outputId);\n",
              "  // Cache steps on the outputElement to make it available for the next call\n",
              "  // to uploadFilesContinue from Python.\n",
              "  outputElement.steps = steps;\n",
              "\n",
              "  return _uploadFilesContinue(outputId);\n",
              "}\n",
              "\n",
              "// This is roughly an async generator (not supported in the browser yet),\n",
              "// where there are multiple asynchronous steps and the Python side is going\n",
              "// to poll for completion of each step.\n",
              "// This uses a Promise to block the python side on completion of each step,\n",
              "// then passes the result of the previous step as the input to the next step.\n",
              "function _uploadFilesContinue(outputId) {\n",
              "  const outputElement = document.getElementById(outputId);\n",
              "  const steps = outputElement.steps;\n",
              "\n",
              "  const next = steps.next(outputElement.lastPromiseValue);\n",
              "  return Promise.resolve(next.value.promise).then((value) => {\n",
              "    // Cache the last promise value to make it available to the next\n",
              "    // step of the generator.\n",
              "    outputElement.lastPromiseValue = value;\n",
              "    return next.value.response;\n",
              "  });\n",
              "}\n",
              "\n",
              "/**\n",
              " * Generator function which is called between each async step of the upload\n",
              " * process.\n",
              " * @param {string} inputId Element ID of the input file picker element.\n",
              " * @param {string} outputId Element ID of the output display.\n",
              " * @return {!Iterable<!Object>} Iterable of next steps.\n",
              " */\n",
              "function* uploadFilesStep(inputId, outputId) {\n",
              "  const inputElement = document.getElementById(inputId);\n",
              "  inputElement.disabled = false;\n",
              "\n",
              "  const outputElement = document.getElementById(outputId);\n",
              "  outputElement.innerHTML = '';\n",
              "\n",
              "  const pickedPromise = new Promise((resolve) => {\n",
              "    inputElement.addEventListener('change', (e) => {\n",
              "      resolve(e.target.files);\n",
              "    });\n",
              "  });\n",
              "\n",
              "  const cancel = document.createElement('button');\n",
              "  inputElement.parentElement.appendChild(cancel);\n",
              "  cancel.textContent = 'Cancel upload';\n",
              "  const cancelPromise = new Promise((resolve) => {\n",
              "    cancel.onclick = () => {\n",
              "      resolve(null);\n",
              "    };\n",
              "  });\n",
              "\n",
              "  // Wait for the user to pick the files.\n",
              "  const files = yield {\n",
              "    promise: Promise.race([pickedPromise, cancelPromise]),\n",
              "    response: {\n",
              "      action: 'starting',\n",
              "    }\n",
              "  };\n",
              "\n",
              "  cancel.remove();\n",
              "\n",
              "  // Disable the input element since further picks are not allowed.\n",
              "  inputElement.disabled = true;\n",
              "\n",
              "  if (!files) {\n",
              "    return {\n",
              "      response: {\n",
              "        action: 'complete',\n",
              "      }\n",
              "    };\n",
              "  }\n",
              "\n",
              "  for (const file of files) {\n",
              "    const li = document.createElement('li');\n",
              "    li.append(span(file.name, {fontWeight: 'bold'}));\n",
              "    li.append(span(\n",
              "        `(${file.type || 'n/a'}) - ${file.size} bytes, ` +\n",
              "        `last modified: ${\n",
              "            file.lastModifiedDate ? file.lastModifiedDate.toLocaleDateString() :\n",
              "                                    'n/a'} - `));\n",
              "    const percent = span('0% done');\n",
              "    li.appendChild(percent);\n",
              "\n",
              "    outputElement.appendChild(li);\n",
              "\n",
              "    const fileDataPromise = new Promise((resolve) => {\n",
              "      const reader = new FileReader();\n",
              "      reader.onload = (e) => {\n",
              "        resolve(e.target.result);\n",
              "      };\n",
              "      reader.readAsArrayBuffer(file);\n",
              "    });\n",
              "    // Wait for the data to be ready.\n",
              "    let fileData = yield {\n",
              "      promise: fileDataPromise,\n",
              "      response: {\n",
              "        action: 'continue',\n",
              "      }\n",
              "    };\n",
              "\n",
              "    // Use a chunked sending to avoid message size limits. See b/62115660.\n",
              "    let position = 0;\n",
              "    do {\n",
              "      const length = Math.min(fileData.byteLength - position, MAX_PAYLOAD_SIZE);\n",
              "      const chunk = new Uint8Array(fileData, position, length);\n",
              "      position += length;\n",
              "\n",
              "      const base64 = btoa(String.fromCharCode.apply(null, chunk));\n",
              "      yield {\n",
              "        response: {\n",
              "          action: 'append',\n",
              "          file: file.name,\n",
              "          data: base64,\n",
              "        },\n",
              "      };\n",
              "\n",
              "      let percentDone = fileData.byteLength === 0 ?\n",
              "          100 :\n",
              "          Math.round((position / fileData.byteLength) * 100);\n",
              "      percent.textContent = `${percentDone}% done`;\n",
              "\n",
              "    } while (position < fileData.byteLength);\n",
              "  }\n",
              "\n",
              "  // All done.\n",
              "  yield {\n",
              "    response: {\n",
              "      action: 'complete',\n",
              "    }\n",
              "  };\n",
              "}\n",
              "\n",
              "scope.google = scope.google || {};\n",
              "scope.google.colab = scope.google.colab || {};\n",
              "scope.google.colab._files = {\n",
              "  _uploadFiles,\n",
              "  _uploadFilesContinue,\n",
              "};\n",
              "})(self);\n",
              "</script> "
            ]
          },
          "metadata": {}
        },
        {
          "output_type": "stream",
          "name": "stdout",
          "text": [
            "Saving Telecom.xlsx to Telecom (1).xlsx\n"
          ]
        }
      ]
    },
    {
      "cell_type": "code",
      "source": [
        "df = pd.read_excel('Telecom.xlsx',sheet_name='Telecom',index_col=0)\n",
        "df.head(),df.info()"
      ],
      "metadata": {
        "colab": {
          "base_uri": "https://localhost:8080/"
        },
        "id": "0FiUBfbORmO1",
        "outputId": "33a0572b-34f0-43e0-c742-08f5283d0379"
      },
      "execution_count": 45,
      "outputs": [
        {
          "output_type": "stream",
          "name": "stdout",
          "text": [
            "<class 'pandas.core.frame.DataFrame'>\n",
            "Index: 4888 entries, 200000 to 204887\n",
            "Data columns (total 19 columns):\n",
            " #   Column                  Non-Null Count  Dtype  \n",
            "---  ------                  --------------  -----  \n",
            " 0   PlanTaken               4888 non-null   int64  \n",
            " 1   Age                     4662 non-null   float64\n",
            " 2   TypeofContact           4863 non-null   object \n",
            " 3   CityTier                4888 non-null   int64  \n",
            " 4   DurationOfPitch         4637 non-null   float64\n",
            " 5   Occupation              4888 non-null   object \n",
            " 6   Gender                  4888 non-null   object \n",
            " 7   NumberOfPersons         4888 non-null   int64  \n",
            " 8   NumberOfFollowups       4843 non-null   float64\n",
            " 9   PlanPitched             4888 non-null   object \n",
            " 10  PreferredServiceStar    4862 non-null   float64\n",
            " 11  MaritalStatus           4888 non-null   object \n",
            " 12  NumberOfUpgrades        4748 non-null   float64\n",
            " 13  iPhone                  4888 non-null   int64  \n",
            " 14  PitchSatisfactionScore  4888 non-null   int64  \n",
            " 15  PhoneContract           4888 non-null   int64  \n",
            " 16  NumberOfChildren        4822 non-null   float64\n",
            " 17  Designation             4888 non-null   object \n",
            " 18  MonthlyIncome           4655 non-null   float64\n",
            "dtypes: float64(7), int64(6), object(6)\n",
            "memory usage: 763.8+ KB\n"
          ]
        },
        {
          "output_type": "execute_result",
          "data": {
            "text/plain": [
              "(            PlanTaken   Age    TypeofContact  CityTier  DurationOfPitch  \\\n",
              " CustomerID                                                                \n",
              " 200000              1  41.0     Self Enquiry         3              6.0   \n",
              " 200001              0  49.0  Company Invited         1             14.0   \n",
              " 200002              1  37.0     Self Enquiry         1              8.0   \n",
              " 200003              0  33.0  Company Invited         1              9.0   \n",
              " 200004              0   NaN     Self Enquiry         1              8.0   \n",
              " \n",
              "                 Occupation  Gender  NumberOfPersons  NumberOfFollowups  \\\n",
              " CustomerID                                                               \n",
              " 200000            Salaried  Female                3                3.0   \n",
              " 200001            Salaried    Male                3                4.0   \n",
              " 200002         Free Lancer    Male                3                4.0   \n",
              " 200003            Salaried  Female                2                3.0   \n",
              " 200004      Small Business    Male                2                3.0   \n",
              " \n",
              "            PlanPitched  PreferredServiceStar MaritalStatus  NumberOfUpgrades  \\\n",
              " CustomerID                                                                     \n",
              " 200000          Deluxe                   3.0        Single               1.0   \n",
              " 200001          Deluxe                   4.0      Divorced               2.0   \n",
              " 200002           Basic                   3.0        Single               7.0   \n",
              " 200003           Basic                   3.0      Divorced               2.0   \n",
              " 200004           Basic                   4.0      Divorced               1.0   \n",
              " \n",
              "             iPhone  PitchSatisfactionScore  PhoneContract  NumberOfChildren  \\\n",
              " CustomerID                                                                    \n",
              " 200000           1                       2              1               0.0   \n",
              " 200001           0                       3              1               2.0   \n",
              " 200002           1                       3              0               0.0   \n",
              " 200003           1                       5              1               1.0   \n",
              " 200004           0                       5              1               0.0   \n",
              " \n",
              "            Designation  MonthlyIncome  \n",
              " CustomerID                             \n",
              " 200000         Manager        20993.0  \n",
              " 200001         Manager        20130.0  \n",
              " 200002       Executive        17090.0  \n",
              " 200003       Executive        17909.0  \n",
              " 200004       Executive        18468.0  ,\n",
              " None)"
            ]
          },
          "metadata": {},
          "execution_count": 45
        }
      ]
    },
    {
      "cell_type": "code",
      "source": [
        "df.dropna(inplace=True)\n",
        "df.info()"
      ],
      "metadata": {
        "colab": {
          "base_uri": "https://localhost:8080/"
        },
        "id": "uJ6i7DhExtXc",
        "outputId": "47457379-0a50-4621-b653-4ba1c2d9f5de"
      },
      "execution_count": 50,
      "outputs": [
        {
          "output_type": "stream",
          "name": "stdout",
          "text": [
            "<class 'pandas.core.frame.DataFrame'>\n",
            "Index: 4128 entries, 200000 to 204887\n",
            "Data columns (total 19 columns):\n",
            " #   Column                  Non-Null Count  Dtype  \n",
            "---  ------                  --------------  -----  \n",
            " 0   PlanTaken               4128 non-null   int64  \n",
            " 1   Age                     4128 non-null   float64\n",
            " 2   TypeofContact           4128 non-null   object \n",
            " 3   CityTier                4128 non-null   int64  \n",
            " 4   DurationOfPitch         4128 non-null   float64\n",
            " 5   Occupation              4128 non-null   object \n",
            " 6   Gender                  4128 non-null   object \n",
            " 7   NumberOfPersons         4128 non-null   int64  \n",
            " 8   NumberOfFollowups       4128 non-null   float64\n",
            " 9   PlanPitched             4128 non-null   object \n",
            " 10  PreferredServiceStar    4128 non-null   float64\n",
            " 11  MaritalStatus           4128 non-null   object \n",
            " 12  NumberOfUpgrades        4128 non-null   float64\n",
            " 13  iPhone                  4128 non-null   int64  \n",
            " 14  PitchSatisfactionScore  4128 non-null   int64  \n",
            " 15  PhoneContract           4128 non-null   int64  \n",
            " 16  NumberOfChildren        4128 non-null   float64\n",
            " 17  Designation             4128 non-null   object \n",
            " 18  MonthlyIncome           4128 non-null   float64\n",
            "dtypes: float64(7), int64(6), object(6)\n",
            "memory usage: 645.0+ KB\n"
          ]
        }
      ]
    },
    {
      "cell_type": "code",
      "source": [
        "#Putting the value in X and y the splitting\n",
        "X = df.drop(\"PlanTaken\",axis=1)\n",
        "y = df[\"PlanTaken\"]\n",
        "X.shape,y.shape"
      ],
      "metadata": {
        "colab": {
          "base_uri": "https://localhost:8080/"
        },
        "id": "5ptQMUkuk0Sa",
        "outputId": "6f4103ef-12b4-49b4-94f0-01be5cb0e369"
      },
      "execution_count": 51,
      "outputs": [
        {
          "output_type": "execute_result",
          "data": {
            "text/plain": [
              "((4128, 18), (4128,))"
            ]
          },
          "metadata": {},
          "execution_count": 51
        }
      ]
    },
    {
      "cell_type": "code",
      "source": [
        "#lets make a column transformer\n",
        "from sklearn.compose import ColumnTransformer\n",
        "from sklearn.preprocessing import OneHotEncoder\n",
        "from sklearn.preprocessing import StandardScaler\n",
        "transformer = ColumnTransformer(\n",
        "    transformers=[\n",
        "        (\"scaler\",StandardScaler(),X.select_dtypes(include=['float64', 'int64']).columns),\n",
        "        (\"encoder\",OneHotEncoder(),X.select_dtypes(include=['object']).columns)\n",
        "    ]\n",
        ")"
      ],
      "metadata": {
        "id": "Tum9HQzbdB9t"
      },
      "execution_count": 52,
      "outputs": []
    },
    {
      "cell_type": "code",
      "source": [
        "transformer"
      ],
      "metadata": {
        "colab": {
          "base_uri": "https://localhost:8080/",
          "height": 117
        },
        "id": "6sW59RZtgWk8",
        "outputId": "1375a7b8-31d0-49fd-bf8d-435f4a33bd06"
      },
      "execution_count": 53,
      "outputs": [
        {
          "output_type": "execute_result",
          "data": {
            "text/plain": [
              "ColumnTransformer(transformers=[('scaler', StandardScaler(),\n",
              "                                 Index(['Age', 'CityTier', 'DurationOfPitch', 'NumberOfPersons',\n",
              "       'NumberOfFollowups', 'PreferredServiceStar', 'NumberOfUpgrades',\n",
              "       'iPhone', 'PitchSatisfactionScore', 'PhoneContract', 'NumberOfChildren',\n",
              "       'MonthlyIncome'],\n",
              "      dtype='object')),\n",
              "                                ('encoder', OneHotEncoder(),\n",
              "                                 Index(['TypeofContact', 'Occupation', 'Gender', 'PlanPitched', 'MaritalStatus',\n",
              "       'Designation'],\n",
              "      dtype='object'))])"
            ],
            "text/html": [
              "<style>#sk-container-id-5 {color: black;background-color: white;}#sk-container-id-5 pre{padding: 0;}#sk-container-id-5 div.sk-toggleable {background-color: white;}#sk-container-id-5 label.sk-toggleable__label {cursor: pointer;display: block;width: 100%;margin-bottom: 0;padding: 0.3em;box-sizing: border-box;text-align: center;}#sk-container-id-5 label.sk-toggleable__label-arrow:before {content: \"▸\";float: left;margin-right: 0.25em;color: #696969;}#sk-container-id-5 label.sk-toggleable__label-arrow:hover:before {color: black;}#sk-container-id-5 div.sk-estimator:hover label.sk-toggleable__label-arrow:before {color: black;}#sk-container-id-5 div.sk-toggleable__content {max-height: 0;max-width: 0;overflow: hidden;text-align: left;background-color: #f0f8ff;}#sk-container-id-5 div.sk-toggleable__content pre {margin: 0.2em;color: black;border-radius: 0.25em;background-color: #f0f8ff;}#sk-container-id-5 input.sk-toggleable__control:checked~div.sk-toggleable__content {max-height: 200px;max-width: 100%;overflow: auto;}#sk-container-id-5 input.sk-toggleable__control:checked~label.sk-toggleable__label-arrow:before {content: \"▾\";}#sk-container-id-5 div.sk-estimator input.sk-toggleable__control:checked~label.sk-toggleable__label {background-color: #d4ebff;}#sk-container-id-5 div.sk-label input.sk-toggleable__control:checked~label.sk-toggleable__label {background-color: #d4ebff;}#sk-container-id-5 input.sk-hidden--visually {border: 0;clip: rect(1px 1px 1px 1px);clip: rect(1px, 1px, 1px, 1px);height: 1px;margin: -1px;overflow: hidden;padding: 0;position: absolute;width: 1px;}#sk-container-id-5 div.sk-estimator {font-family: monospace;background-color: #f0f8ff;border: 1px dotted black;border-radius: 0.25em;box-sizing: border-box;margin-bottom: 0.5em;}#sk-container-id-5 div.sk-estimator:hover {background-color: #d4ebff;}#sk-container-id-5 div.sk-parallel-item::after {content: \"\";width: 100%;border-bottom: 1px solid gray;flex-grow: 1;}#sk-container-id-5 div.sk-label:hover label.sk-toggleable__label {background-color: #d4ebff;}#sk-container-id-5 div.sk-serial::before {content: \"\";position: absolute;border-left: 1px solid gray;box-sizing: border-box;top: 0;bottom: 0;left: 50%;z-index: 0;}#sk-container-id-5 div.sk-serial {display: flex;flex-direction: column;align-items: center;background-color: white;padding-right: 0.2em;padding-left: 0.2em;position: relative;}#sk-container-id-5 div.sk-item {position: relative;z-index: 1;}#sk-container-id-5 div.sk-parallel {display: flex;align-items: stretch;justify-content: center;background-color: white;position: relative;}#sk-container-id-5 div.sk-item::before, #sk-container-id-5 div.sk-parallel-item::before {content: \"\";position: absolute;border-left: 1px solid gray;box-sizing: border-box;top: 0;bottom: 0;left: 50%;z-index: -1;}#sk-container-id-5 div.sk-parallel-item {display: flex;flex-direction: column;z-index: 1;position: relative;background-color: white;}#sk-container-id-5 div.sk-parallel-item:first-child::after {align-self: flex-end;width: 50%;}#sk-container-id-5 div.sk-parallel-item:last-child::after {align-self: flex-start;width: 50%;}#sk-container-id-5 div.sk-parallel-item:only-child::after {width: 0;}#sk-container-id-5 div.sk-dashed-wrapped {border: 1px dashed gray;margin: 0 0.4em 0.5em 0.4em;box-sizing: border-box;padding-bottom: 0.4em;background-color: white;}#sk-container-id-5 div.sk-label label {font-family: monospace;font-weight: bold;display: inline-block;line-height: 1.2em;}#sk-container-id-5 div.sk-label-container {text-align: center;}#sk-container-id-5 div.sk-container {/* jupyter's `normalize.less` sets `[hidden] { display: none; }` but bootstrap.min.css set `[hidden] { display: none !important; }` so we also need the `!important` here to be able to override the default hidden behavior on the sphinx rendered scikit-learn.org. See: https://github.com/scikit-learn/scikit-learn/issues/21755 */display: inline-block !important;position: relative;}#sk-container-id-5 div.sk-text-repr-fallback {display: none;}</style><div id=\"sk-container-id-5\" class=\"sk-top-container\"><div class=\"sk-text-repr-fallback\"><pre>ColumnTransformer(transformers=[(&#x27;scaler&#x27;, StandardScaler(),\n",
              "                                 Index([&#x27;Age&#x27;, &#x27;CityTier&#x27;, &#x27;DurationOfPitch&#x27;, &#x27;NumberOfPersons&#x27;,\n",
              "       &#x27;NumberOfFollowups&#x27;, &#x27;PreferredServiceStar&#x27;, &#x27;NumberOfUpgrades&#x27;,\n",
              "       &#x27;iPhone&#x27;, &#x27;PitchSatisfactionScore&#x27;, &#x27;PhoneContract&#x27;, &#x27;NumberOfChildren&#x27;,\n",
              "       &#x27;MonthlyIncome&#x27;],\n",
              "      dtype=&#x27;object&#x27;)),\n",
              "                                (&#x27;encoder&#x27;, OneHotEncoder(),\n",
              "                                 Index([&#x27;TypeofContact&#x27;, &#x27;Occupation&#x27;, &#x27;Gender&#x27;, &#x27;PlanPitched&#x27;, &#x27;MaritalStatus&#x27;,\n",
              "       &#x27;Designation&#x27;],\n",
              "      dtype=&#x27;object&#x27;))])</pre><b>In a Jupyter environment, please rerun this cell to show the HTML representation or trust the notebook. <br />On GitHub, the HTML representation is unable to render, please try loading this page with nbviewer.org.</b></div><div class=\"sk-container\" hidden><div class=\"sk-item sk-dashed-wrapped\"><div class=\"sk-label-container\"><div class=\"sk-label sk-toggleable\"><input class=\"sk-toggleable__control sk-hidden--visually\" id=\"sk-estimator-id-21\" type=\"checkbox\" ><label for=\"sk-estimator-id-21\" class=\"sk-toggleable__label sk-toggleable__label-arrow\">ColumnTransformer</label><div class=\"sk-toggleable__content\"><pre>ColumnTransformer(transformers=[(&#x27;scaler&#x27;, StandardScaler(),\n",
              "                                 Index([&#x27;Age&#x27;, &#x27;CityTier&#x27;, &#x27;DurationOfPitch&#x27;, &#x27;NumberOfPersons&#x27;,\n",
              "       &#x27;NumberOfFollowups&#x27;, &#x27;PreferredServiceStar&#x27;, &#x27;NumberOfUpgrades&#x27;,\n",
              "       &#x27;iPhone&#x27;, &#x27;PitchSatisfactionScore&#x27;, &#x27;PhoneContract&#x27;, &#x27;NumberOfChildren&#x27;,\n",
              "       &#x27;MonthlyIncome&#x27;],\n",
              "      dtype=&#x27;object&#x27;)),\n",
              "                                (&#x27;encoder&#x27;, OneHotEncoder(),\n",
              "                                 Index([&#x27;TypeofContact&#x27;, &#x27;Occupation&#x27;, &#x27;Gender&#x27;, &#x27;PlanPitched&#x27;, &#x27;MaritalStatus&#x27;,\n",
              "       &#x27;Designation&#x27;],\n",
              "      dtype=&#x27;object&#x27;))])</pre></div></div></div><div class=\"sk-parallel\"><div class=\"sk-parallel-item\"><div class=\"sk-item\"><div class=\"sk-label-container\"><div class=\"sk-label sk-toggleable\"><input class=\"sk-toggleable__control sk-hidden--visually\" id=\"sk-estimator-id-22\" type=\"checkbox\" ><label for=\"sk-estimator-id-22\" class=\"sk-toggleable__label sk-toggleable__label-arrow\">scaler</label><div class=\"sk-toggleable__content\"><pre>Index([&#x27;Age&#x27;, &#x27;CityTier&#x27;, &#x27;DurationOfPitch&#x27;, &#x27;NumberOfPersons&#x27;,\n",
              "       &#x27;NumberOfFollowups&#x27;, &#x27;PreferredServiceStar&#x27;, &#x27;NumberOfUpgrades&#x27;,\n",
              "       &#x27;iPhone&#x27;, &#x27;PitchSatisfactionScore&#x27;, &#x27;PhoneContract&#x27;, &#x27;NumberOfChildren&#x27;,\n",
              "       &#x27;MonthlyIncome&#x27;],\n",
              "      dtype=&#x27;object&#x27;)</pre></div></div></div><div class=\"sk-serial\"><div class=\"sk-item\"><div class=\"sk-estimator sk-toggleable\"><input class=\"sk-toggleable__control sk-hidden--visually\" id=\"sk-estimator-id-23\" type=\"checkbox\" ><label for=\"sk-estimator-id-23\" class=\"sk-toggleable__label sk-toggleable__label-arrow\">StandardScaler</label><div class=\"sk-toggleable__content\"><pre>StandardScaler()</pre></div></div></div></div></div></div><div class=\"sk-parallel-item\"><div class=\"sk-item\"><div class=\"sk-label-container\"><div class=\"sk-label sk-toggleable\"><input class=\"sk-toggleable__control sk-hidden--visually\" id=\"sk-estimator-id-24\" type=\"checkbox\" ><label for=\"sk-estimator-id-24\" class=\"sk-toggleable__label sk-toggleable__label-arrow\">encoder</label><div class=\"sk-toggleable__content\"><pre>Index([&#x27;TypeofContact&#x27;, &#x27;Occupation&#x27;, &#x27;Gender&#x27;, &#x27;PlanPitched&#x27;, &#x27;MaritalStatus&#x27;,\n",
              "       &#x27;Designation&#x27;],\n",
              "      dtype=&#x27;object&#x27;)</pre></div></div></div><div class=\"sk-serial\"><div class=\"sk-item\"><div class=\"sk-estimator sk-toggleable\"><input class=\"sk-toggleable__control sk-hidden--visually\" id=\"sk-estimator-id-25\" type=\"checkbox\" ><label for=\"sk-estimator-id-25\" class=\"sk-toggleable__label sk-toggleable__label-arrow\">OneHotEncoder</label><div class=\"sk-toggleable__content\"><pre>OneHotEncoder()</pre></div></div></div></div></div></div></div></div></div></div>"
            ]
          },
          "metadata": {},
          "execution_count": 53
        }
      ]
    },
    {
      "cell_type": "code",
      "source": [
        "#splitting the data in training and testing\n",
        "from sklearn.model_selection import train_test_split\n",
        "X_train,X_test,y_train,y_test = train_test_split(X,y,test_size=0.33,random_state=42)"
      ],
      "metadata": {
        "id": "9Taw7tZIiLBn"
      },
      "execution_count": 54,
      "outputs": []
    },
    {
      "cell_type": "code",
      "source": [
        "X_train.shape,X_test.shape,y_train.shape,y_test.shape"
      ],
      "metadata": {
        "colab": {
          "base_uri": "https://localhost:8080/"
        },
        "id": "xB6A2QysiXgP",
        "outputId": "0d220c54-2fd1-4cb9-db57-7f3b7481195d"
      },
      "execution_count": 55,
      "outputs": [
        {
          "output_type": "execute_result",
          "data": {
            "text/plain": [
              "((2765, 18), (1363, 18), (2765,), (1363,))"
            ]
          },
          "metadata": {},
          "execution_count": 55
        }
      ]
    },
    {
      "cell_type": "code",
      "source": [
        "#Transforming the training data\n",
        "X_train = transformer.fit_transform(X_train)\n"
      ],
      "metadata": {
        "id": "u6tVtxHYo3x1"
      },
      "execution_count": 56,
      "outputs": []
    },
    {
      "cell_type": "code",
      "source": [
        "#transforming testing data\n",
        "X_test = transformer.transform(X_test)"
      ],
      "metadata": {
        "id": "Dmq172RfdRaC"
      },
      "execution_count": 57,
      "outputs": []
    },
    {
      "cell_type": "markdown",
      "source": [
        "## Now lets start modelling this tensor\n",
        "1. **Creating a model** - Define the imput and output layer as well as hidden layer of deep learning model\n",
        "2. **Compile a model** - Define the loss fumction and optimizer(tell model how to improve the patterns or wieghts of learming) and evaluation matrics (what we can use to interepret the performance of model)\n",
        "3. **Fitting the model** - to make predictions"
      ],
      "metadata": {
        "id": "V4gmmjiIeFbq"
      }
    },
    {
      "cell_type": "code",
      "source": [
        "#Converting the data to tensor\n",
        "X_train_tensor = tf.convert_to_tensor(X_train)\n",
        "X_test_tensor = tf.convert_to_tensor(X_test)\n",
        "y_train_tensor = tf.convert_to_tensor(y_train)\n",
        "y_test_tensor = tf.convert_to_tensor(y_test)"
      ],
      "metadata": {
        "id": "IgtZ_7GtrQQf"
      },
      "execution_count": 86,
      "outputs": []
    },
    {
      "cell_type": "code",
      "source": [],
      "metadata": {
        "id": "w0GXABoMsVdH"
      },
      "execution_count": null,
      "outputs": []
    },
    {
      "cell_type": "markdown",
      "source": [
        "### Initial model improvemnet steps\n"
      ],
      "metadata": {
        "id": "R7MTn73NsLy2"
      }
    },
    {
      "cell_type": "markdown",
      "source": [
        "Encountering `NaN` values in loss and MSE metrics can be quite challenging. Here are some steps and additions you can consider to troubleshoot and improve your model:\n",
        "\n",
        "1. **Data Preprocessing**:\n",
        "   - Ensure there are no `NaN` values in your dataset. If there are, you'll need to handle them by either filling them with a value or removing the affected rows/columns.\n",
        "   - Normalize your data. Neural networks tend to perform better when the input data is normalized or standardized.\n",
        "\n",
        "2. **Model Architecture**:\n",
        "   - Consider adding a `Dropout` layer to prevent overfitting.\n",
        "   - Adjust the number of neurons in the hidden layers or the number of hidden layers themselves.\n",
        "\n",
        "3. **Initialization**:\n",
        "   - Use a different weight initialization method. Sometimes, the default initialization can lead to issues with training stability.\n",
        "\n",
        "4. **Learning Rate**:\n",
        "   - Adjust the learning rate. A learning rate that's too high can cause the model to converge too quickly to a suboptimal solution, and sometimes to `NaN` values.\n",
        "\n",
        "5. **Batch Size**:\n",
        "   - Experiment with the batch size. Smaller batch sizes can offer a more stable convergence at the cost of computation time.\n",
        "\n",
        "6. **Gradient Clipping**:\n",
        "   - Implement gradient clipping to prevent gradients from becoming too large and causing instability.\n",
        "\n",
        "7. **Loss Function**:\n",
        "   - Double-check that your loss function is appropriate for the task at hand.\n",
        "\n",
        "Here's an example of how you might modify your model to include some of these suggestions:\n",
        "\n",
        "```python\n",
        "model_1 = tf.keras.Sequential([\n",
        "    tf.keras.layers.Dense(100, activation=\"relu\", kernel_initializer='he_normal'),\n",
        "    tf.keras.layers.Dropout(0.5),\n",
        "    tf.keras.layers.Dense(100, activation=\"relu\", kernel_initializer='he_normal'),\n",
        "    tf.keras.layers.Dropout(0.5),\n",
        "    tf.keras.layers.Dense(1)\n",
        "])\n",
        "\n",
        "model_1.compile(loss=tf.keras.losses.mse,\n",
        "                optimizer=tf.keras.optimizers.Adam(learning_rate=0.001),\n",
        "                metrics=[\"mse\"]\n",
        ")\n",
        "\n",
        "model_1.fit(X_train_tensor, y_train_tensor, epochs=100, batch_size=32)\n",
        "```\n",
        "\n",
        "In this example, I've added `Dropout` layers to help with overfitting, used `he_normal` for weight initialization, and specified a learning rate for the Adam optimizer. Remember to adjust these parameters based on the performance of your model on validation data. Keep iterating until you find the best configuration for your specific dataset."
      ],
      "metadata": {
        "id": "dilbk6apwlIj"
      }
    },
    {
      "cell_type": "markdown",
      "source": [
        "### model building 1\n"
      ],
      "metadata": {
        "id": "mO6pH1Imw8MD"
      }
    },
    {
      "cell_type": "code",
      "source": [
        "\n",
        "#X=np.expand_dims(X,axis=-1)\n",
        "#  X = tf.reshape(X, shape=(-1, 1))\n",
        "#  if the original X tensor has 8 elements, the reshaped tensor will have 8 rows and 1 column.\n",
        " #we do this because  input to the Dense layer in the model is expected to have a minimum of 2 dimensions\n",
        "#set the global seed to make the data fix\n",
        "tf.random.set_seed(13)\n",
        "#creating the model by using sequesntial API\n",
        "model_1 = tf.keras.Sequential([\n",
        "    tf.keras.layers.Dense(100,activation=\"relu\"),\n",
        "    tf.keras.layers.Dense(100,activation=\"relu\"),\n",
        "    tf.keras.layers.Dense(1)\n",
        "])\n",
        "# lets start compiling the model\n",
        "model_1.compile(loss=tf.keras.losses.mse,\n",
        "              optimizer=\"adam\",#stochastic gradient decent\n",
        "              metrics=[\"mse\"]\n",
        "              )\n",
        "#fitting the model\n",
        "model_1.fit(X_train_tensor,y_train_tensor,epochs=100)"
      ],
      "metadata": {
        "id": "JcSrnxZxfnPm",
        "colab": {
          "base_uri": "https://localhost:8080/"
        },
        "outputId": "3a750170-8564-42f4-9444-5e747271f75f"
      },
      "execution_count": 87,
      "outputs": [
        {
          "output_type": "stream",
          "name": "stdout",
          "text": [
            "Epoch 1/100\n",
            "87/87 [==============================] - 1s 2ms/step - loss: 0.1425 - mse: 0.1425\n",
            "Epoch 2/100\n",
            "87/87 [==============================] - 0s 2ms/step - loss: 0.1118 - mse: 0.1118\n",
            "Epoch 3/100\n",
            "87/87 [==============================] - 0s 2ms/step - loss: 0.0991 - mse: 0.0991\n",
            "Epoch 4/100\n",
            "87/87 [==============================] - 0s 2ms/step - loss: 0.0878 - mse: 0.0878\n",
            "Epoch 5/100\n",
            "87/87 [==============================] - 0s 2ms/step - loss: 0.0821 - mse: 0.0821\n",
            "Epoch 6/100\n",
            "87/87 [==============================] - 0s 2ms/step - loss: 0.0763 - mse: 0.0763\n",
            "Epoch 7/100\n",
            "87/87 [==============================] - 0s 2ms/step - loss: 0.0708 - mse: 0.0708\n",
            "Epoch 8/100\n",
            "87/87 [==============================] - 0s 2ms/step - loss: 0.0635 - mse: 0.0635\n",
            "Epoch 9/100\n",
            "87/87 [==============================] - 0s 2ms/step - loss: 0.0583 - mse: 0.0583\n",
            "Epoch 10/100\n",
            "87/87 [==============================] - 0s 2ms/step - loss: 0.0533 - mse: 0.0533\n",
            "Epoch 11/100\n",
            "87/87 [==============================] - 0s 2ms/step - loss: 0.0485 - mse: 0.0485\n",
            "Epoch 12/100\n",
            "87/87 [==============================] - 0s 2ms/step - loss: 0.0444 - mse: 0.0444\n",
            "Epoch 13/100\n",
            "87/87 [==============================] - 0s 3ms/step - loss: 0.0422 - mse: 0.0422\n",
            "Epoch 14/100\n",
            "87/87 [==============================] - 0s 3ms/step - loss: 0.0385 - mse: 0.0385\n",
            "Epoch 15/100\n",
            "87/87 [==============================] - 0s 3ms/step - loss: 0.0368 - mse: 0.0368\n",
            "Epoch 16/100\n",
            "87/87 [==============================] - 0s 3ms/step - loss: 0.0337 - mse: 0.0337\n",
            "Epoch 17/100\n",
            "87/87 [==============================] - 0s 3ms/step - loss: 0.0302 - mse: 0.0302\n",
            "Epoch 18/100\n",
            "87/87 [==============================] - 0s 3ms/step - loss: 0.0276 - mse: 0.0276\n",
            "Epoch 19/100\n",
            "87/87 [==============================] - 0s 3ms/step - loss: 0.0259 - mse: 0.0259\n",
            "Epoch 20/100\n",
            "87/87 [==============================] - 0s 3ms/step - loss: 0.0254 - mse: 0.0254\n",
            "Epoch 21/100\n",
            "87/87 [==============================] - 0s 3ms/step - loss: 0.0284 - mse: 0.0284\n",
            "Epoch 22/100\n",
            "87/87 [==============================] - 0s 3ms/step - loss: 0.0229 - mse: 0.0229\n",
            "Epoch 23/100\n",
            "87/87 [==============================] - 0s 3ms/step - loss: 0.0195 - mse: 0.0195\n",
            "Epoch 24/100\n",
            "87/87 [==============================] - 0s 3ms/step - loss: 0.0172 - mse: 0.0172\n",
            "Epoch 25/100\n",
            "87/87 [==============================] - 0s 3ms/step - loss: 0.0214 - mse: 0.0214\n",
            "Epoch 26/100\n",
            "87/87 [==============================] - 0s 3ms/step - loss: 0.0216 - mse: 0.0216\n",
            "Epoch 27/100\n",
            "87/87 [==============================] - 0s 2ms/step - loss: 0.0202 - mse: 0.0202\n",
            "Epoch 28/100\n",
            "87/87 [==============================] - 0s 2ms/step - loss: 0.0148 - mse: 0.0148\n",
            "Epoch 29/100\n",
            "87/87 [==============================] - 0s 2ms/step - loss: 0.0126 - mse: 0.0126\n",
            "Epoch 30/100\n",
            "87/87 [==============================] - 0s 2ms/step - loss: 0.0111 - mse: 0.0111\n",
            "Epoch 31/100\n",
            "87/87 [==============================] - 0s 2ms/step - loss: 0.0120 - mse: 0.0120\n",
            "Epoch 32/100\n",
            "87/87 [==============================] - 0s 2ms/step - loss: 0.0118 - mse: 0.0118\n",
            "Epoch 33/100\n",
            "87/87 [==============================] - 0s 2ms/step - loss: 0.0103 - mse: 0.0103\n",
            "Epoch 34/100\n",
            "87/87 [==============================] - 0s 2ms/step - loss: 0.0091 - mse: 0.0091\n",
            "Epoch 35/100\n",
            "87/87 [==============================] - 0s 2ms/step - loss: 0.0086 - mse: 0.0086\n",
            "Epoch 36/100\n",
            "87/87 [==============================] - 0s 2ms/step - loss: 0.0126 - mse: 0.0126\n",
            "Epoch 37/100\n",
            "87/87 [==============================] - 0s 2ms/step - loss: 0.0104 - mse: 0.0104\n",
            "Epoch 38/100\n",
            "87/87 [==============================] - 0s 2ms/step - loss: 0.0114 - mse: 0.0114\n",
            "Epoch 39/100\n",
            "87/87 [==============================] - 0s 2ms/step - loss: 0.0115 - mse: 0.0115\n",
            "Epoch 40/100\n",
            "87/87 [==============================] - 0s 2ms/step - loss: 0.0086 - mse: 0.0086\n",
            "Epoch 41/100\n",
            "87/87 [==============================] - 0s 2ms/step - loss: 0.0105 - mse: 0.0105\n",
            "Epoch 42/100\n",
            "87/87 [==============================] - 0s 2ms/step - loss: 0.0091 - mse: 0.0091\n",
            "Epoch 43/100\n",
            "87/87 [==============================] - 0s 2ms/step - loss: 0.0073 - mse: 0.0073\n",
            "Epoch 44/100\n",
            "87/87 [==============================] - 0s 2ms/step - loss: 0.0056 - mse: 0.0056\n",
            "Epoch 45/100\n",
            "87/87 [==============================] - 0s 2ms/step - loss: 0.0058 - mse: 0.0058\n",
            "Epoch 46/100\n",
            "87/87 [==============================] - 0s 2ms/step - loss: 0.0068 - mse: 0.0068\n",
            "Epoch 47/100\n",
            "87/87 [==============================] - 0s 2ms/step - loss: 0.0060 - mse: 0.0060\n",
            "Epoch 48/100\n",
            "87/87 [==============================] - 0s 2ms/step - loss: 0.0059 - mse: 0.0059\n",
            "Epoch 49/100\n",
            "87/87 [==============================] - 0s 2ms/step - loss: 0.0063 - mse: 0.0063\n",
            "Epoch 50/100\n",
            "87/87 [==============================] - 0s 2ms/step - loss: 0.0052 - mse: 0.0052\n",
            "Epoch 51/100\n",
            "87/87 [==============================] - 0s 2ms/step - loss: 0.0063 - mse: 0.0063\n",
            "Epoch 52/100\n",
            "87/87 [==============================] - 0s 2ms/step - loss: 0.0084 - mse: 0.0084\n",
            "Epoch 53/100\n",
            "87/87 [==============================] - 0s 2ms/step - loss: 0.0074 - mse: 0.0074\n",
            "Epoch 54/100\n",
            "87/87 [==============================] - 0s 3ms/step - loss: 0.0104 - mse: 0.0104\n",
            "Epoch 55/100\n",
            "87/87 [==============================] - 0s 2ms/step - loss: 0.0098 - mse: 0.0098\n",
            "Epoch 56/100\n",
            "87/87 [==============================] - 0s 2ms/step - loss: 0.0083 - mse: 0.0083\n",
            "Epoch 57/100\n",
            "87/87 [==============================] - 0s 2ms/step - loss: 0.0079 - mse: 0.0079\n",
            "Epoch 58/100\n",
            "87/87 [==============================] - 0s 2ms/step - loss: 0.0064 - mse: 0.0064\n",
            "Epoch 59/100\n",
            "87/87 [==============================] - 0s 2ms/step - loss: 0.0087 - mse: 0.0087\n",
            "Epoch 60/100\n",
            "87/87 [==============================] - 0s 2ms/step - loss: 0.0059 - mse: 0.0059\n",
            "Epoch 61/100\n",
            "87/87 [==============================] - 0s 2ms/step - loss: 0.0035 - mse: 0.0035\n",
            "Epoch 62/100\n",
            "87/87 [==============================] - 0s 2ms/step - loss: 0.0030 - mse: 0.0030\n",
            "Epoch 63/100\n",
            "87/87 [==============================] - 0s 2ms/step - loss: 0.0032 - mse: 0.0032\n",
            "Epoch 64/100\n",
            "87/87 [==============================] - 0s 2ms/step - loss: 0.0025 - mse: 0.0025\n",
            "Epoch 65/100\n",
            "87/87 [==============================] - 0s 2ms/step - loss: 0.0019 - mse: 0.0019\n",
            "Epoch 66/100\n",
            "87/87 [==============================] - 0s 2ms/step - loss: 0.0022 - mse: 0.0022\n",
            "Epoch 67/100\n",
            "87/87 [==============================] - 0s 2ms/step - loss: 0.0021 - mse: 0.0021\n",
            "Epoch 68/100\n",
            "87/87 [==============================] - 0s 2ms/step - loss: 0.0037 - mse: 0.0037\n",
            "Epoch 69/100\n",
            "87/87 [==============================] - 0s 2ms/step - loss: 0.0037 - mse: 0.0037\n",
            "Epoch 70/100\n",
            "87/87 [==============================] - 0s 2ms/step - loss: 0.0042 - mse: 0.0042\n",
            "Epoch 71/100\n",
            "87/87 [==============================] - 0s 2ms/step - loss: 0.0063 - mse: 0.0063\n",
            "Epoch 72/100\n",
            "87/87 [==============================] - 0s 2ms/step - loss: 0.0060 - mse: 0.0060\n",
            "Epoch 73/100\n",
            "87/87 [==============================] - 0s 2ms/step - loss: 0.0066 - mse: 0.0066\n",
            "Epoch 74/100\n",
            "87/87 [==============================] - 0s 2ms/step - loss: 0.0086 - mse: 0.0086\n",
            "Epoch 75/100\n",
            "87/87 [==============================] - 0s 2ms/step - loss: 0.0087 - mse: 0.0087\n",
            "Epoch 76/100\n",
            "87/87 [==============================] - 0s 2ms/step - loss: 0.0053 - mse: 0.0053\n",
            "Epoch 77/100\n",
            "87/87 [==============================] - 0s 2ms/step - loss: 0.0039 - mse: 0.0039\n",
            "Epoch 78/100\n",
            "87/87 [==============================] - 0s 2ms/step - loss: 0.0033 - mse: 0.0033\n",
            "Epoch 79/100\n",
            "87/87 [==============================] - 0s 3ms/step - loss: 0.0037 - mse: 0.0037\n",
            "Epoch 80/100\n",
            "87/87 [==============================] - 0s 3ms/step - loss: 0.0032 - mse: 0.0032\n",
            "Epoch 81/100\n",
            "87/87 [==============================] - 0s 3ms/step - loss: 0.0026 - mse: 0.0026\n",
            "Epoch 82/100\n",
            "87/87 [==============================] - 0s 3ms/step - loss: 0.0031 - mse: 0.0031\n",
            "Epoch 83/100\n",
            "87/87 [==============================] - 0s 3ms/step - loss: 0.0028 - mse: 0.0028\n",
            "Epoch 84/100\n",
            "87/87 [==============================] - 0s 3ms/step - loss: 0.0025 - mse: 0.0025\n",
            "Epoch 85/100\n",
            "87/87 [==============================] - 0s 3ms/step - loss: 0.0024 - mse: 0.0024\n",
            "Epoch 86/100\n",
            "87/87 [==============================] - 0s 3ms/step - loss: 0.0038 - mse: 0.0038\n",
            "Epoch 87/100\n",
            "87/87 [==============================] - 0s 4ms/step - loss: 0.0042 - mse: 0.0042\n",
            "Epoch 88/100\n",
            "87/87 [==============================] - 0s 4ms/step - loss: 0.0042 - mse: 0.0042\n",
            "Epoch 89/100\n",
            "87/87 [==============================] - 0s 3ms/step - loss: 0.0041 - mse: 0.0041\n",
            "Epoch 90/100\n",
            "87/87 [==============================] - 0s 3ms/step - loss: 0.0040 - mse: 0.0040\n",
            "Epoch 91/100\n",
            "87/87 [==============================] - 0s 4ms/step - loss: 0.0039 - mse: 0.0039\n",
            "Epoch 92/100\n",
            "87/87 [==============================] - 0s 3ms/step - loss: 0.0042 - mse: 0.0042\n",
            "Epoch 93/100\n",
            "87/87 [==============================] - 0s 2ms/step - loss: 0.0037 - mse: 0.0037\n",
            "Epoch 94/100\n",
            "87/87 [==============================] - 0s 2ms/step - loss: 0.0037 - mse: 0.0037\n",
            "Epoch 95/100\n",
            "87/87 [==============================] - 0s 2ms/step - loss: 0.0028 - mse: 0.0028\n",
            "Epoch 96/100\n",
            "87/87 [==============================] - 0s 2ms/step - loss: 0.0026 - mse: 0.0026\n",
            "Epoch 97/100\n",
            "87/87 [==============================] - 0s 2ms/step - loss: 0.0021 - mse: 0.0021\n",
            "Epoch 98/100\n",
            "87/87 [==============================] - 0s 2ms/step - loss: 0.0025 - mse: 0.0025\n",
            "Epoch 99/100\n",
            "87/87 [==============================] - 0s 2ms/step - loss: 0.0032 - mse: 0.0032\n",
            "Epoch 100/100\n",
            "87/87 [==============================] - 0s 2ms/step - loss: 0.0027 - mse: 0.0027\n"
          ]
        },
        {
          "output_type": "execute_result",
          "data": {
            "text/plain": [
              "<keras.src.callbacks.History at 0x799d58a5a1a0>"
            ]
          },
          "metadata": {},
          "execution_count": 87
        }
      ]
    },
    {
      "cell_type": "code",
      "source": [
        "\n",
        "y_predict = model_1.predict(X_test_tensor)\n",
        "y_pred_probs = model_1.predict(X_test_tensor)\n",
        "y_predict,y_pred_probs"
      ],
      "metadata": {
        "colab": {
          "base_uri": "https://localhost:8080/"
        },
        "id": "rEfMI3StjCqC",
        "outputId": "7efb7b24-e655-4f5d-fa25-e239da2c759f"
      },
      "execution_count": 71,
      "outputs": [
        {
          "output_type": "stream",
          "name": "stdout",
          "text": [
            "43/43 [==============================] - 0s 5ms/step\n",
            "43/43 [==============================] - 0s 5ms/step\n"
          ]
        },
        {
          "output_type": "execute_result",
          "data": {
            "text/plain": [
              "(array([[ 0.17676626],\n",
              "        [ 0.22249968],\n",
              "        [ 0.1234566 ],\n",
              "        ...,\n",
              "        [ 0.08363459],\n",
              "        [ 0.16019113],\n",
              "        [-0.06631458]], dtype=float32),\n",
              " array([[ 0.17676626],\n",
              "        [ 0.22249968],\n",
              "        [ 0.1234566 ],\n",
              "        ...,\n",
              "        [ 0.08363459],\n",
              "        [ 0.16019113],\n",
              "        [-0.06631458]], dtype=float32))"
            ]
          },
          "metadata": {},
          "execution_count": 71
        }
      ]
    },
    {
      "cell_type": "markdown",
      "source": [
        "visulize the results"
      ],
      "metadata": {
        "id": "8bs_wluX0nKv"
      }
    },
    {
      "cell_type": "code",
      "source": [
        "# FOR PRINTING THE EVALUATION MATRIX WITH RUC\n",
        "import numpy as np\n",
        "import matplotlib.pyplot as plt\n",
        "import seaborn as sns\n",
        "from sklearn.metrics import accuracy_score, recall_score, precision_score, f1_score, confusion_matrix, roc_curve, auc\n",
        "\n",
        "# Assuming y_pred are your model's probability predictions and y_test_tensor are the true labels\n",
        "# Convert probabilities to binary predictions based on a threshold\n",
        "threshold = 0.5\n",
        "y_pred_binary = (y_pred > threshold).astype(int)\n",
        "\n",
        "# Calculate metrics\n",
        "accuracy = accuracy_score(y_test_tensor, y_pred_binary)\n",
        "recall = recall_score(y_test_tensor, y_pred_binary)\n",
        "precision = precision_score(y_test_tensor, y_pred_binary)\n",
        "f1 = f1_score(y_test_tensor, y_pred_binary)\n",
        "\n",
        "# Print metrics\n",
        "print(f\"Accuracy: {accuracy:.4f}\")\n",
        "print(f\"Recall: {recall:.4f}\")\n",
        "print(f\"Precision: {precision:.4f}\")\n",
        "print(f\"F1 Score: {f1:.4f}\")\n",
        "\n",
        "# Confusion Matrix\n",
        "cf_matrix = confusion_matrix(y_test_tensor, y_pred_binary)\n",
        "\n",
        "cf_matrix_percent = cf_matrix / np.sum(cf_matrix) * 100\n",
        "\n",
        "labels = [f\"{v1}\\n{v2:.2f}%\" for v1, v2 in zip(cf_matrix.flatten(), cf_matrix_percent.flatten())]\n",
        "labels = np.asarray(labels).reshape(cf_matrix.shape)\n",
        "\n",
        "# Plot the heatmap\n",
        "sns.heatmap(cf_matrix, annot=labels, fmt='', cmap='Blues')\n",
        "plt.show()\n",
        "\n",
        "# ROC Curve\n",
        "fpr, tpr, thresholds = roc_curve(y_test_tensor, y_pred)\n",
        "roc_auc = auc(fpr, tpr)\n",
        "\n",
        "# Plotting\n",
        "plt.figure(figsize=(10, 8))\n",
        "\n",
        "# Generate the confusion matrix\n",
        "\n",
        "\n",
        "# Subplot for ROC Curve\n",
        "plt.subplot(2, 2, 2)\n",
        "plt.plot(fpr, tpr, color='darkorange', lw=2, label=f'ROC curve (area = {roc_auc:.2f})')\n",
        "plt.plot([0, 1], [0, 1], color='navy', lw=2, linestyle='--')\n",
        "plt.xlim([0.0, 1.0])\n",
        "plt.ylim([0.0, 1.05])\n",
        "plt.xlabel('False Positive Rate')\n",
        "plt.ylabel('True Positive Rate')\n",
        "plt.title('Receiver Operating Characteristic')\n",
        "plt.legend(loc=\"lower right\")\n",
        "\n",
        "# Show plot\n",
        "plt.tight_layout()\n",
        "plt.show()\n"
      ],
      "metadata": {
        "colab": {
          "base_uri": "https://localhost:8080/",
          "height": 929
        },
        "id": "m7tTart43cda",
        "outputId": "5192c534-cb70-46f6-bdd0-f6ac1fea4f24"
      },
      "execution_count": 96,
      "outputs": [
        {
          "output_type": "stream",
          "name": "stdout",
          "text": [
            "Accuracy: 0.9552\n",
            "Recall: 0.8272\n",
            "Precision: 0.9414\n",
            "F1 Score: 0.8806\n"
          ]
        },
        {
          "output_type": "display_data",
          "data": {
            "text/plain": [
              "<Figure size 640x480 with 2 Axes>"
            ],
            "image/png": "[encoded data removed]"
          },
          "metadata": {}
        },
        {
          "output_type": "display_data",
          "data": {
            "text/plain": [
              "<Figure size 1000x800 with 1 Axes>"
            ],
            "image/png": "[encoded data removed]"
          },
          "metadata": {}
        }
      ]
    },
    {
      "cell_type": "code",
      "source": [],
      "metadata": {
        "id": "s5d6BPXt_TcV"
      },
      "execution_count": 98,
      "outputs": []
    },
    {
      "cell_type": "code",
      "source": [],
      "metadata": {
        "id": "F0mlFcq_0mxD"
      },
      "execution_count": 96,
      "outputs": []
    },
    {
      "cell_type": "markdown",
      "source": [
        "\n",
        "\n",
        "**Improving the model**\n",
        "\n",
        "we can improve the models by altering the steps that we take while creating the modal\n",
        "\n",
        "1.**Creating a model** - we might add some more layers,increase the number if hidden laters(Neurons) within each of hidden layer,change the activation function of each layer.\n",
        "2. **Compiling the model** - we might chnage the optimization function or perhaps the **learning rate** of the otimization function .\n",
        "3.  **Fitting the model** - we fight fit the model for more epochs"
      ],
      "metadata": {
        "id": "XvtoqiNbkQe6"
      }
    },
    {
      "cell_type": "code",
      "source": [
        "# Small chnages make more effect on model as compare to large changes\n",
        "# 1.Create the model (this tim we will add 1 extra layer with 100 units)\n"
      ],
      "metadata": {
        "id": "3wV-xWqFm8gb"
      },
      "execution_count": null,
      "outputs": []
    },
    {
      "cell_type": "code",
      "source": [
        "    # X=np.expand_dims(X,axis=-1)\n",
        " #we do this because  input to the Dense layer in the model is expected to have a minimum of 2 dimensions\n",
        "#set the global seed to make the data fix\n",
        "tf.random.set_seed(13)\n",
        "#creating the model by using sequesntial API\n",
        "model = tf.keras.Sequential([\n",
        "    tf.keras.layers.Dense(100,activation=\"relu\",name=\"Input_layer\"),\n",
        "    tf.keras.layers.Dense(100,activation=\"relu\",name=\"Middle_layer\"),\n",
        "    tf.keras.layers.Dense(1,name=\"Output_layer\")\n",
        "],name=\"mymodel\")\n",
        "# lets start compiling the model\n",
        "model.compile(loss=tf.keras.losses.mse,\n",
        "              optimizer=tf.keras.optimizers.Adam(learning_rate=0.01),#stochastic gradient decent\n",
        "              metrics=[\"mae\"]\n",
        "              )\n",
        "#fitting the model\n",
        "model.fit(X,y,epochs=100,verbose=0)"
      ],
      "metadata": {
        "colab": {
          "base_uri": "https://localhost:8080/"
        },
        "id": "OLwfB-ZnM5AD",
        "outputId": "0577d79f-6f4f-452e-e41d-9bea2e7b82ec"
      },
      "execution_count": null,
      "outputs": [
        {
          "output_type": "execute_result",
          "data": {
            "text/plain": [
              "<keras.src.callbacks.History at 0x78d74938f8b0>"
            ]
          },
          "metadata": {},
          "execution_count": 8
        }
      ]
    },
    {
      "cell_type": "code",
      "source": [
        "y_predict = model.predict([18.0])\n",
        "y_predict\n",
        "#when i use sgd i get nan mse but when i used adam i am getting mse 3.89 .beacuse of vanishing gradient\n",
        "#here model is doing overfititng because mec is reducing but the result is not good and going still out of order\n",
        "#so here we are not getting the accuracy because here this model does not need NN it just require simple LinearRegression model"
      ],
      "metadata": {
        "colab": {
          "base_uri": "https://localhost:8080/"
        },
        "id": "Jcqa_5MTNGXS",
        "outputId": "be14e0b0-6707-4197-9acd-6b8b25f9beb1"
      },
      "execution_count": null,
      "outputs": [
        {
          "output_type": "stream",
          "name": "stdout",
          "text": [
            "1/1 [==============================] - 0s 78ms/step\n"
          ]
        },
        {
          "output_type": "execute_result",
          "data": {
            "text/plain": [
              "array([[28.23328]], dtype=float32)"
            ]
          },
          "metadata": {},
          "execution_count": 9
        }
      ]
    },
    {
      "cell_type": "markdown",
      "source": [
        "### MODEL 2"
      ],
      "metadata": {
        "id": "Fp8d4J5LAb51"
      }
    },
    {
      "cell_type": "code",
      "source": [
        "model_2 = tf.keras.Sequential([\n",
        "    tf.keras.layers.Dense(100, activation=\"relu\", kernel_initializer='he_normal'),\n",
        "    tf.keras.layers.Dropout(0.5),\n",
        "    tf.keras.layers.Dense(100, activation=\"relu\", kernel_initializer='he_normal'),\n",
        "    tf.keras.layers.Dropout(0.5),\n",
        "    tf.keras.layers.Dense(1)\n",
        "])\n",
        "\n",
        "model_2.compile(loss=tf.keras.losses.mse,\n",
        "                optimizer=tf.keras.optimizers.Adam(learning_rate=0.001),\n",
        "                metrics=[\"mse\"]\n",
        ")\n",
        "\n",
        "model_2.fit(X_train_tensor, y_train_tensor, epochs=100, batch_size=32)"
      ],
      "metadata": {
        "id": "XspAMbZdAiPU"
      },
      "execution_count": null,
      "outputs": []
    },
    {
      "cell_type": "markdown",
      "source": [
        "##Evaluating a model\n",
        "In practice, a typical workflow you'll go through when building neural network is that :\n",
        "* Create a model\n",
        "* Compile the model\n",
        "* Fit the model\n",
        "* Evaluate the model\n",
        "* Repeat until satisfied\n",
        "* Visulaize,Visualize,Visualize"
      ],
      "metadata": {
        "id": "lE5Vfej2N-tv"
      }
    },
    {
      "cell_type": "markdown",
      "source": [
        "\n",
        "*** model.summary()\n",
        "\n",
        "*Totol Parammeters - Total no. of parameters in model\n",
        "\n",
        "*Trainable Parameters - These are the parameters(patterns) the model can update as it trains\n",
        "\n",
        "*Non Trainable Parameters - These parameters aren't updated during training (this is typical when you bring in already learned patterns or parameters from other models during transfer learning)"
      ],
      "metadata": {
        "id": "CUzadHk3qXjy"
      }
    },
    {
      "cell_type": "code",
      "source": [
        "model.summary()\n"
      ],
      "metadata": {
        "colab": {
          "base_uri": "https://localhost:8080/"
        },
        "id": "1kQyW8M7z6Za",
        "outputId": "d4fa063a-41e9-4238-e6c5-5b5cca8493d7"
      },
      "execution_count": null,
      "outputs": [
        {
          "output_type": "stream",
          "name": "stdout",
          "text": [
            "Model: \"mymodel\"\n",
            "_________________________________________________________________\n",
            " Layer (type)                Output Shape              Param #   \n",
            "=================================================================\n",
            " Input_layer (Dense)         (None, 100)               200       \n",
            "                                                                 \n",
            " Middle_layer (Dense)        (None, 100)               10100     \n",
            "                                                                 \n",
            " Output_layer (Dense)        (None, 1)                 101       \n",
            "                                                                 \n",
            "=================================================================\n",
            "Total params: 10401 (40.63 KB)\n",
            "Trainable params: 10401 (40.63 KB)\n",
            "Non-trainable params: 0 (0.00 Byte)\n",
            "_________________________________________________________________\n"
          ]
        }
      ]
    },
    {
      "cell_type": "code",
      "source": [
        "from tensorflow.keras.utils import plot_model\n",
        "plot_model(model,show_shapes=True)"
      ],
      "metadata": {
        "colab": {
          "base_uri": "https://localhost:8080/",
          "height": 422
        },
        "id": "kxsOCiCo6ENH",
        "outputId": "04486501-77f1-42bb-f562-9d5d3afcc5e9"
      },
      "execution_count": null,
      "outputs": [
        {
          "output_type": "execute_result",
          "data": {
            "image/png": "[encoded data removed]",
            "text/plain": [
              "<IPython.core.display.Image object>"
            ]
          },
          "metadata": {},
          "execution_count": 11
        }
      ]
    },
    {
      "cell_type": "markdown",
      "source": [
        "###Evaluation our model's predictions with regression evaluation metrics\n",
        "Depending on the problem type, there are different evaluation metrics\n",
        "\n",
        "MAE - Mean absolute error, \"on average, how wrong is each of my model's predictions\" tf.metrics.mean_absolute_error(y_test,y_pred)\n",
        "\n",
        "MSE - Mean square error, \"square the average errors\"\n",
        "\n",
        "when you have to compare tensors you must have both variables in tensor form and also having same shape, You can do squeeze or add extra dims"
      ],
      "metadata": {
        "id": "uCWw_vE862k-"
      }
    },
    {
      "cell_type": "markdown",
      "source": [
        " Tensorboard - a compnent of tensorflow for visualization\n",
        "\n",
        " weights and biases - a way to visualize learning of model     \n",
        "\n",
        "** To save the model**\n",
        "\n",
        "two ways to save the model\n",
        "\n",
        "1. savedmodel format\n",
        "2. HDF5 file\n"
      ],
      "metadata": {
        "id": "LmZcx-AI-C0E"
      }
    },
    {
      "cell_type": "code",
      "source": [
        "#By using the SavedModel format\n",
        "model.save(\"demo_regression_model\")"
      ],
      "metadata": {
        "id": "WGQlIYVyqZv3"
      },
      "execution_count": null,
      "outputs": []
    },
    {
      "cell_type": "code",
      "source": [
        "#By using the HDF5 format\n",
        "model.save(\"demo_regression_model.h5\")"
      ],
      "metadata": {
        "colab": {
          "base_uri": "https://localhost:8080/"
        },
        "id": "Ab8D0S1qqqby",
        "outputId": "7a92c252-a8c9-4dc1-c246-184b1d0f38f8"
      },
      "execution_count": null,
      "outputs": [
        {
          "output_type": "stream",
          "name": "stderr",
          "text": [
            "/usr/local/lib/python3.10/dist-packages/keras/src/engine/training.py:3103: UserWarning: You are saving your model as an HDF5 file via `model.save()`. This file format is considered legacy. We recommend using instead the native Keras format, e.g. `model.save('my_model.keras')`.\n",
            "  saving_api.save_model(\n"
          ]
        }
      ]
    },
    {
      "cell_type": "code",
      "source": [
        "###how to access the saved model\n",
        "saved_model =tf.keras.models.load_model(\"demo_regression_model\")\n",
        "saved_model.summary()"
      ],
      "metadata": {
        "colab": {
          "base_uri": "https://localhost:8080/"
        },
        "id": "gkxXV5d8rDbg",
        "outputId": "7db13f0e-4107-4789-f692-817762ed7cd7"
      },
      "execution_count": null,
      "outputs": [
        {
          "output_type": "stream",
          "name": "stdout",
          "text": [
            "Model: \"mymodel\"\n",
            "_________________________________________________________________\n",
            " Layer (type)                Output Shape              Param #   \n",
            "=================================================================\n",
            " Input_layer (Dense)         (None, 100)               200       \n",
            "                                                                 \n",
            " Middle_layer (Dense)        (None, 100)               10100     \n",
            "                                                                 \n",
            " Output_layer (Dense)        (None, 1)                 101       \n",
            "                                                                 \n",
            "=================================================================\n",
            "Total params: 10401 (40.63 KB)\n",
            "Trainable params: 10401 (40.63 KB)\n",
            "Non-trainable params: 0 (0.00 Byte)\n",
            "_________________________________________________________________\n"
          ]
        }
      ]
    },
    {
      "cell_type": "code",
      "source": [
        "###how to access the HDF5 model\n",
        "hdf5_model = tf.keras.models.load_model(\"demo_regression_model.h5\")\n",
        "hdf5_model.summary()\n"
      ],
      "metadata": {
        "colab": {
          "base_uri": "https://localhost:8080/"
        },
        "id": "KKByulrWsLHX",
        "outputId": "1087f517-97b9-4dbd-d0d8-580f54b243ed"
      },
      "execution_count": null,
      "outputs": [
        {
          "output_type": "stream",
          "name": "stdout",
          "text": [
            "Model: \"mymodel\"\n",
            "_________________________________________________________________\n",
            " Layer (type)                Output Shape              Param #   \n",
            "=================================================================\n",
            " Input_layer (Dense)         (None, 100)               200       \n",
            "                                                                 \n",
            " Middle_layer (Dense)        (None, 100)               10100     \n",
            "                                                                 \n",
            " Output_layer (Dense)        (None, 1)                 101       \n",
            "                                                                 \n",
            "=================================================================\n",
            "Total params: 10401 (40.63 KB)\n",
            "Trainable params: 10401 (40.63 KB)\n",
            "Non-trainable params: 0 (0.00 Byte)\n",
            "_________________________________________________________________\n"
          ]
        }
      ]
    },
    {
      "cell_type": "code",
      "source": [],
      "metadata": {
        "id": "jie0cAz0tEBb"
      },
      "execution_count": null,
      "outputs": []
    }
  ]
}