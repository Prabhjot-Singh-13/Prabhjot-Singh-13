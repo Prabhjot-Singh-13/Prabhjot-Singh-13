{
  "nbformat": 4,
  "nbformat_minor": 0,
  "metadata": {
    "colab": {
      "provenance": [],
      "authorship_tag": "ABX9TyM6vDVCOrwMLsqxDumBhIh0",
      "include_colab_link": true
    },
    "kernelspec": {
      "name": "python3",
      "display_name": "Python 3"
    },
    "language_info": {
      "name": "python"
    }
  },
  "cells": [
    {
      "cell_type": "markdown",
      "metadata": {
        "id": "view-in-github",
        "colab_type": "text"
      },
      "source": [
        "<a href=\"https://colab.research.google.com/github/Prabhjot-Singh-13/Prabhjot-Singh-13/blob/main/01_Neural_Networks_Regression.ipynb\" target=\"_parent\"><img src=\"https://colab.research.google.com/assets/colab-badge.svg\" alt=\"Open In Colab\"/></a>"
      ]
    },
    {
      "cell_type": "markdown",
      "source": [
        "# **REGRESSION**\n",
        "Regression is a statistical method used to analyze the relationship between variables, aiming to predict the value of one variable based on the values of others. It seeks to find the best-fit line or curve that describes the pattern of the data points.\n",
        "\n",
        "We will cover\n",
        "* Artitecture of neural regresion model including input and output shapes\n",
        "*Creating the custom data to view and fit\n",
        "*Steps in modelling >Creating>Compiling>Fitting>evaluating model\n",
        "*Different evaluation method\n",
        "*Saving and loading Models\n",
        "\n"
      ],
      "metadata": {
        "id": "DQ_VGU4KUtlK"
      }
    },
    {
      "cell_type": "markdown",
      "source": [
        "#INPUT AND OUTPUT OF THE ALGORITHUM\n",
        "*Independent varibles(Features) converted into numerical encoding(one hot)\n",
        "\n",
        "*Embedding ,wieghts or feature vectors all are same\n",
        "\n",
        "Input layer shape>\n",
        "Hidden layer>\n",
        "Neuron per layer>\n",
        "Output layer shape>\n",
        "Hidden activation>\n",
        "Output activation>\n",
        "Loss function>\n",
        "Optimizer>\n",
        "\n"
      ],
      "metadata": {
        "id": "uOrvSfeoWVHn"
      }
    },
    {
      "cell_type": "code",
      "source": [
        "#importing tensorflow\n",
        "import tensorflow as tf\n",
        "from tensorflow import keras\n",
        "import numpy as np\n",
        "import pandas as pd\n",
        "import matplotlib.pyplot as plt"
      ],
      "metadata": {
        "id": "50_1UhZuWlT9"
      },
      "execution_count": null,
      "outputs": []
    },
    {
      "cell_type": "code",
      "source": [
        "#we have to create features\n",
        "X = np.array([-7.0, -4.0, -1.0, 2.0, 5.0, 8.0, 11.0, 14.0]) #features\n",
        "y = np.array([3.0, 6.0, 9.0, 12.0, 15.0, 18.0, 21.0, 24.0]) #labels\n",
        "#visulization\n",
        "plt.scatter(X,y)"
      ],
      "metadata": {
        "colab": {
          "base_uri": "https://localhost:8080/",
          "height": 452
        },
        "id": "o1lFqJLgbquq",
        "outputId": "c6ccde95-adeb-4031-ed8e-d0fa30c4c48f"
      },
      "execution_count": null,
      "outputs": [
        {
          "output_type": "execute_result",
          "data": {
            "text/plain": [
              "<matplotlib.collections.PathCollection at 0x7bb52db47280>"
            ]
          },
          "metadata": {},
          "execution_count": 35
        },
        {
          "output_type": "display_data",
          "data": {
            "text/plain": [
              "<Figure size 640x480 with 1 Axes>"
            ],
            "image/png": "[encoded data removed]"
          },
          "metadata": {}
        }
      ]
    },
    {
      "cell_type": "code",
      "source": [
        "#converting Numpy array into tensors\n",
        "X = tf.constant(X,shape=(8,1))\n",
        "y = tf.constant(y)\n",
        "y,X"
      ],
      "metadata": {
        "colab": {
          "base_uri": "https://localhost:8080/"
        },
        "id": "Dmq172RfdRaC",
        "outputId": "e253af19-8479-4879-8214-0c87f40e6d8e"
      },
      "execution_count": null,
      "outputs": [
        {
          "output_type": "execute_result",
          "data": {
            "text/plain": [
              "(<tf.Tensor: shape=(8,), dtype=float64, numpy=array([ 3.,  6.,  9., 12., 15., 18., 21., 24.])>,\n",
              " <tf.Tensor: shape=(8, 1), dtype=float64, numpy=\n",
              " array([[-7.],\n",
              "        [-4.],\n",
              "        [-1.],\n",
              "        [ 2.],\n",
              "        [ 5.],\n",
              "        [ 8.],\n",
              "        [11.],\n",
              "        [14.]])>)"
            ]
          },
          "metadata": {},
          "execution_count": 38
        }
      ]
    },
    {
      "cell_type": "markdown",
      "source": [
        "## Now lets start modelling this tensor\n",
        "1. **Creating a model** - Define the imput and output layer as well as hidden layer of deep learning model\n",
        "2. **Compile a model** - Define the loss fumction and optimizer(tell model how to improve the patterns or wieghts of learming) and evaluation matrics (what we can use to interepret the performance of model)\n",
        "3. **Fitting the model** - to make predictions"
      ],
      "metadata": {
        "id": "V4gmmjiIeFbq"
      }
    },
    {
      "cell_type": "code",
      "source": [
        "\n",
        "#X=np.expand_dims(X,axis=-1)\n",
        "#  X = tf.reshape(X, shape=(-1, 1))\n",
        "#  if the original X tensor has 8 elements, the reshaped tensor will have 8 rows and 1 column.\n",
        " #we do this because  input to the Dense layer in the model is expected to have a minimum of 2 dimensions\n",
        "#set the global seed to make the data fix\n",
        "#tf.random.set_seed(13)\n",
        "#creating the model by using sequesntial API\n",
        "model = tf.keras.Sequential([\n",
        "    tf.keras.layers.Dense(1)\n",
        "])\n",
        "# lets start compiling the model\n",
        "model.compile(loss=tf.keras.losses.mse,\n",
        "              optimizer=\"sgd\",#stochastic gradient decent\n",
        "              metrics=[\"mse\"]\n",
        "              )\n",
        "#fitting the model\n",
        "model.fit(X,y,epochs=100)"
      ],
      "metadata": {
        "id": "JcSrnxZxfnPm",
        "colab": {
          "base_uri": "https://localhost:8080/"
        },
        "outputId": "4f49b1f9-9e09-4e73-c95c-afa9cde03274"
      },
      "execution_count": null,
      "outputs": [
        {
          "output_type": "stream",
          "name": "stdout",
          "text": [
            "Epoch 1/100\n",
            "1/1 [==============================] - 1s 576ms/step - loss: 545.3358 - mse: 545.3358\n",
            "Epoch 2/100\n",
            "1/1 [==============================] - 0s 13ms/step - loss: 92.0440 - mse: 92.0440\n",
            "Epoch 3/100\n",
            "1/1 [==============================] - 0s 14ms/step - loss: 72.7086 - mse: 72.7086\n",
            "Epoch 4/100\n",
            "1/1 [==============================] - 0s 11ms/step - loss: 69.8053 - mse: 69.8053\n",
            "Epoch 5/100\n",
            "1/1 [==============================] - 0s 11ms/step - loss: 67.5898 - mse: 67.5898\n",
            "Epoch 6/100\n",
            "1/1 [==============================] - 0s 15ms/step - loss: 65.4664 - mse: 65.4664\n",
            "Epoch 7/100\n",
            "1/1 [==============================] - 0s 13ms/step - loss: 63.4105 - mse: 63.4105\n",
            "Epoch 8/100\n",
            "1/1 [==============================] - 0s 11ms/step - loss: 61.4192 - mse: 61.4192\n",
            "Epoch 9/100\n",
            "1/1 [==============================] - 0s 10ms/step - loss: 59.4905 - mse: 59.4905\n",
            "Epoch 10/100\n",
            "1/1 [==============================] - 0s 11ms/step - loss: 57.6223 - mse: 57.6223\n",
            "Epoch 11/100\n",
            "1/1 [==============================] - 0s 12ms/step - loss: 55.8128 - mse: 55.8128\n",
            "Epoch 12/100\n",
            "1/1 [==============================] - 0s 12ms/step - loss: 54.0601 - mse: 54.0601\n",
            "Epoch 13/100\n",
            "1/1 [==============================] - 0s 12ms/step - loss: 52.3624 - mse: 52.3624\n",
            "Epoch 14/100\n",
            "1/1 [==============================] - 0s 12ms/step - loss: 50.7181 - mse: 50.7181\n",
            "Epoch 15/100\n",
            "1/1 [==============================] - 0s 12ms/step - loss: 49.1253 - mse: 49.1253\n",
            "Epoch 16/100\n",
            "1/1 [==============================] - 0s 12ms/step - loss: 47.5826 - mse: 47.5826\n",
            "Epoch 17/100\n",
            "1/1 [==============================] - 0s 11ms/step - loss: 46.0884 - mse: 46.0884\n",
            "Epoch 18/100\n",
            "1/1 [==============================] - 0s 10ms/step - loss: 44.6411 - mse: 44.6411\n",
            "Epoch 19/100\n",
            "1/1 [==============================] - 0s 10ms/step - loss: 43.2392 - mse: 43.2392\n",
            "Epoch 20/100\n",
            "1/1 [==============================] - 0s 11ms/step - loss: 41.8814 - mse: 41.8814\n",
            "Epoch 21/100\n",
            "1/1 [==============================] - 0s 11ms/step - loss: 40.5662 - mse: 40.5662\n",
            "Epoch 22/100\n",
            "1/1 [==============================] - 0s 12ms/step - loss: 39.2922 - mse: 39.2922\n",
            "Epoch 23/100\n",
            "1/1 [==============================] - 0s 11ms/step - loss: 38.0583 - mse: 38.0583\n",
            "Epoch 24/100\n",
            "1/1 [==============================] - 0s 10ms/step - loss: 36.8632 - mse: 36.8632\n",
            "Epoch 25/100\n",
            "1/1 [==============================] - 0s 10ms/step - loss: 35.7056 - mse: 35.7056\n",
            "Epoch 26/100\n",
            "1/1 [==============================] - 0s 10ms/step - loss: 34.5843 - mse: 34.5843\n",
            "Epoch 27/100\n",
            "1/1 [==============================] - 0s 12ms/step - loss: 33.4982 - mse: 33.4982\n",
            "Epoch 28/100\n",
            "1/1 [==============================] - 0s 12ms/step - loss: 32.4463 - mse: 32.4463\n",
            "Epoch 29/100\n",
            "1/1 [==============================] - 0s 12ms/step - loss: 31.4274 - mse: 31.4274\n",
            "Epoch 30/100\n",
            "1/1 [==============================] - 0s 12ms/step - loss: 30.4404 - mse: 30.4404\n",
            "Epoch 31/100\n",
            "1/1 [==============================] - 0s 13ms/step - loss: 29.4845 - mse: 29.4845\n",
            "Epoch 32/100\n",
            "1/1 [==============================] - 0s 12ms/step - loss: 28.5586 - mse: 28.5586\n",
            "Epoch 33/100\n",
            "1/1 [==============================] - 0s 12ms/step - loss: 27.6618 - mse: 27.6618\n",
            "Epoch 34/100\n",
            "1/1 [==============================] - 0s 11ms/step - loss: 26.7931 - mse: 26.7931\n",
            "Epoch 35/100\n",
            "1/1 [==============================] - 0s 11ms/step - loss: 25.9517 - mse: 25.9517\n",
            "Epoch 36/100\n",
            "1/1 [==============================] - 0s 11ms/step - loss: 25.1368 - mse: 25.1368\n",
            "Epoch 37/100\n",
            "1/1 [==============================] - 0s 11ms/step - loss: 24.3474 - mse: 24.3474\n",
            "Epoch 38/100\n",
            "1/1 [==============================] - 0s 11ms/step - loss: 23.5828 - mse: 23.5828\n",
            "Epoch 39/100\n",
            "1/1 [==============================] - 0s 13ms/step - loss: 22.8422 - mse: 22.8422\n",
            "Epoch 40/100\n",
            "1/1 [==============================] - 0s 10ms/step - loss: 22.1249 - mse: 22.1249\n",
            "Epoch 41/100\n",
            "1/1 [==============================] - 0s 12ms/step - loss: 21.4301 - mse: 21.4301\n",
            "Epoch 42/100\n",
            "1/1 [==============================] - 0s 11ms/step - loss: 20.7571 - mse: 20.7571\n",
            "Epoch 43/100\n",
            "1/1 [==============================] - 0s 10ms/step - loss: 20.1053 - mse: 20.1053\n",
            "Epoch 44/100\n",
            "1/1 [==============================] - 0s 10ms/step - loss: 19.4739 - mse: 19.4739\n",
            "Epoch 45/100\n",
            "1/1 [==============================] - 0s 10ms/step - loss: 18.8624 - mse: 18.8624\n",
            "Epoch 46/100\n",
            "1/1 [==============================] - 0s 10ms/step - loss: 18.2700 - mse: 18.2700\n",
            "Epoch 47/100\n",
            "1/1 [==============================] - 0s 10ms/step - loss: 17.6963 - mse: 17.6963\n",
            "Epoch 48/100\n",
            "1/1 [==============================] - 0s 11ms/step - loss: 17.1406 - mse: 17.1406\n",
            "Epoch 49/100\n",
            "1/1 [==============================] - 0s 10ms/step - loss: 16.6023 - mse: 16.6023\n",
            "Epoch 50/100\n",
            "1/1 [==============================] - 0s 10ms/step - loss: 16.0809 - mse: 16.0809\n",
            "Epoch 51/100\n",
            "1/1 [==============================] - 0s 10ms/step - loss: 15.5759 - mse: 15.5759\n",
            "Epoch 52/100\n",
            "1/1 [==============================] - 0s 11ms/step - loss: 15.0868 - mse: 15.0868\n",
            "Epoch 53/100\n",
            "1/1 [==============================] - 0s 10ms/step - loss: 14.6130 - mse: 14.6130\n",
            "Epoch 54/100\n",
            "1/1 [==============================] - 0s 11ms/step - loss: 14.1541 - mse: 14.1541\n",
            "Epoch 55/100\n",
            "1/1 [==============================] - 0s 15ms/step - loss: 13.7097 - mse: 13.7097\n",
            "Epoch 56/100\n",
            "1/1 [==============================] - 0s 18ms/step - loss: 13.2791 - mse: 13.2791\n",
            "Epoch 57/100\n",
            "1/1 [==============================] - 0s 12ms/step - loss: 12.8621 - mse: 12.8621\n",
            "Epoch 58/100\n",
            "1/1 [==============================] - 0s 13ms/step - loss: 12.4582 - mse: 12.4582\n",
            "Epoch 59/100\n",
            "1/1 [==============================] - 0s 15ms/step - loss: 12.0670 - mse: 12.0670\n",
            "Epoch 60/100\n",
            "1/1 [==============================] - 0s 12ms/step - loss: 11.6880 - mse: 11.6880\n",
            "Epoch 61/100\n",
            "1/1 [==============================] - 0s 11ms/step - loss: 11.3210 - mse: 11.3210\n",
            "Epoch 62/100\n",
            "1/1 [==============================] - 0s 13ms/step - loss: 10.9655 - mse: 10.9655\n",
            "Epoch 63/100\n",
            "1/1 [==============================] - 0s 10ms/step - loss: 10.6211 - mse: 10.6211\n",
            "Epoch 64/100\n",
            "1/1 [==============================] - 0s 10ms/step - loss: 10.2876 - mse: 10.2876\n",
            "Epoch 65/100\n",
            "1/1 [==============================] - 0s 16ms/step - loss: 9.9645 - mse: 9.9645\n",
            "Epoch 66/100\n",
            "1/1 [==============================] - 0s 10ms/step - loss: 9.6516 - mse: 9.6516\n",
            "Epoch 67/100\n",
            "1/1 [==============================] - 0s 10ms/step - loss: 9.3485 - mse: 9.3485\n",
            "Epoch 68/100\n",
            "1/1 [==============================] - 0s 10ms/step - loss: 9.0549 - mse: 9.0549\n",
            "Epoch 69/100\n",
            "1/1 [==============================] - 0s 10ms/step - loss: 8.7706 - mse: 8.7706\n",
            "Epoch 70/100\n",
            "1/1 [==============================] - 0s 10ms/step - loss: 8.4952 - mse: 8.4952\n",
            "Epoch 71/100\n",
            "1/1 [==============================] - 0s 10ms/step - loss: 8.2284 - mse: 8.2284\n",
            "Epoch 72/100\n",
            "1/1 [==============================] - 0s 10ms/step - loss: 7.9700 - mse: 7.9700\n",
            "Epoch 73/100\n",
            "1/1 [==============================] - 0s 10ms/step - loss: 7.7197 - mse: 7.7197\n",
            "Epoch 74/100\n",
            "1/1 [==============================] - 0s 10ms/step - loss: 7.4773 - mse: 7.4773\n",
            "Epoch 75/100\n",
            "1/1 [==============================] - 0s 10ms/step - loss: 7.2425 - mse: 7.2425\n",
            "Epoch 76/100\n",
            "1/1 [==============================] - 0s 10ms/step - loss: 7.0150 - mse: 7.0150\n",
            "Epoch 77/100\n",
            "1/1 [==============================] - 0s 10ms/step - loss: 6.7947 - mse: 6.7947\n",
            "Epoch 78/100\n",
            "1/1 [==============================] - 0s 10ms/step - loss: 6.5814 - mse: 6.5814\n",
            "Epoch 79/100\n",
            "1/1 [==============================] - 0s 11ms/step - loss: 6.3747 - mse: 6.3747\n",
            "Epoch 80/100\n",
            "1/1 [==============================] - 0s 10ms/step - loss: 6.1745 - mse: 6.1745\n",
            "Epoch 81/100\n",
            "1/1 [==============================] - 0s 10ms/step - loss: 5.9806 - mse: 5.9806\n",
            "Epoch 82/100\n",
            "1/1 [==============================] - 0s 10ms/step - loss: 5.7928 - mse: 5.7928\n",
            "Epoch 83/100\n",
            "1/1 [==============================] - 0s 10ms/step - loss: 5.6109 - mse: 5.6109\n",
            "Epoch 84/100\n",
            "1/1 [==============================] - 0s 11ms/step - loss: 5.4347 - mse: 5.4347\n",
            "Epoch 85/100\n",
            "1/1 [==============================] - 0s 10ms/step - loss: 5.2640 - mse: 5.2640\n",
            "Epoch 86/100\n",
            "1/1 [==============================] - 0s 10ms/step - loss: 5.0987 - mse: 5.0987\n",
            "Epoch 87/100\n",
            "1/1 [==============================] - 0s 12ms/step - loss: 4.9386 - mse: 4.9386\n",
            "Epoch 88/100\n",
            "1/1 [==============================] - 0s 10ms/step - loss: 4.7835 - mse: 4.7835\n",
            "Epoch 89/100\n",
            "1/1 [==============================] - 0s 10ms/step - loss: 4.6333 - mse: 4.6333\n",
            "Epoch 90/100\n",
            "1/1 [==============================] - 0s 11ms/step - loss: 4.4878 - mse: 4.4878\n",
            "Epoch 91/100\n",
            "1/1 [==============================] - 0s 10ms/step - loss: 4.3469 - mse: 4.3469\n",
            "Epoch 92/100\n",
            "1/1 [==============================] - 0s 10ms/step - loss: 4.2103 - mse: 4.2103\n",
            "Epoch 93/100\n",
            "1/1 [==============================] - 0s 10ms/step - loss: 4.0781 - mse: 4.0781\n",
            "Epoch 94/100\n",
            "1/1 [==============================] - 0s 10ms/step - loss: 3.9501 - mse: 3.9501\n",
            "Epoch 95/100\n",
            "1/1 [==============================] - 0s 10ms/step - loss: 3.8260 - mse: 3.8260\n",
            "Epoch 96/100\n",
            "1/1 [==============================] - 0s 10ms/step - loss: 3.7059 - mse: 3.7059\n",
            "Epoch 97/100\n",
            "1/1 [==============================] - 0s 10ms/step - loss: 3.5895 - mse: 3.5895\n",
            "Epoch 98/100\n",
            "1/1 [==============================] - 0s 11ms/step - loss: 3.4768 - mse: 3.4768\n",
            "Epoch 99/100\n",
            "1/1 [==============================] - 0s 9ms/step - loss: 3.3676 - mse: 3.3676\n",
            "Epoch 100/100\n",
            "1/1 [==============================] - 0s 15ms/step - loss: 3.2618 - mse: 3.2618\n"
          ]
        },
        {
          "output_type": "execute_result",
          "data": {
            "text/plain": [
              "<keras.src.callbacks.History at 0x7bb519dbb6d0>"
            ]
          },
          "metadata": {},
          "execution_count": 104
        }
      ]
    },
    {
      "cell_type": "code",
      "source": [
        "\n",
        "y_predict = model.predict([22])\n",
        "y_predict"
      ],
      "metadata": {
        "colab": {
          "base_uri": "https://localhost:8080/"
        },
        "id": "rEfMI3StjCqC",
        "outputId": "667a3b30-a906-48e3-b953-a7507cabae52"
      },
      "execution_count": null,
      "outputs": [
        {
          "output_type": "stream",
          "name": "stdout",
          "text": [
            "1/1 [==============================] - 0s 99ms/step\n"
          ]
        },
        {
          "output_type": "execute_result",
          "data": {
            "text/plain": [
              "array([[34.927433]], dtype=float32)"
            ]
          },
          "metadata": {},
          "execution_count": 103
        }
      ]
    },
    {
      "cell_type": "markdown",
      "source": [
        "\n",
        "\n",
        "**Improving the model**\n",
        "\n",
        "we can improve the models by altering the steps that we take while creating the modal\n",
        "\n",
        "1.**Creating a model** - we might add some more layers,increase the number if hidden laters(Neurons) within each of hidden layer,change the activation function of each layer.\n",
        "2. **Compiling the model** - we might chnage the optimization function or perhaps the **learning rate** of the otimization function .\n",
        "3.  **Fitting the model** - we fight fit the model for more epochs"
      ],
      "metadata": {
        "id": "XvtoqiNbkQe6"
      }
    },
    {
      "cell_type": "code",
      "source": [
        "# Small chnages make more effect on model as compare to large changes\n",
        "# 1.Create the model (this tim we will add 1 extra layer with 100 units)\n"
      ],
      "metadata": {
        "id": "3wV-xWqFm8gb"
      },
      "execution_count": null,
      "outputs": []
    },
    {
      "cell_type": "code",
      "source": [
        "# X=np.expand_dims(X,axis=-1)\n",
        " #we do this because  input to the Dense layer in the model is expected to have a minimum of 2 dimensions\n",
        "#set the global seed to make the data fix\n",
        "tf.random.set_seed(13)\n",
        "#creating the model by using sequesntial API\n",
        "model = tf.keras.Sequential([\n",
        "    tf.keras.layers.Dense(100,activation=\"relu\",name=\"Input_layer\"),\n",
        "    tf.keras.layers.Dense(100,activation=\"relu\",name=\"Middle_layer\"),\n",
        "    tf.keras.layers.Dense(1,name=\"Output_layer\")\n",
        "],name=\"mymodel\")\n",
        "# lets start compiling the model\n",
        "model.compile(loss=tf.keras.losses.mse,\n",
        "              optimizer=tf.keras.optimizers.Adam(learning_rate=0.01),#stochastic gradient decent\n",
        "              metrics=[\"mae\"]\n",
        "              )\n",
        "#fitting the model\n",
        "model.fit(X,y,epochs=100,verbose=0)"
      ],
      "metadata": {
        "colab": {
          "base_uri": "https://localhost:8080/"
        },
        "id": "OLwfB-ZnM5AD",
        "outputId": "5d8500d7-606f-49a6-83ae-6f10af8b96c8"
      },
      "execution_count": null,
      "outputs": [
        {
          "output_type": "execute_result",
          "data": {
            "text/plain": [
              "<keras.src.callbacks.History at 0x7bb51eb6f520>"
            ]
          },
          "metadata": {},
          "execution_count": 135
        }
      ]
    },
    {
      "cell_type": "code",
      "source": [
        "y_predict = model.predict([18.0])\n",
        "y_predict\n",
        "#when i use sgd i get nan mse but when i used adam i am getting mse 3.89 .beacuse of vanishing gradient\n",
        "#here model is doing overfititng because mec is reducing but the result is not good and going still out of order\n",
        "#so here we are not getting the accuracy because here this model does not need NN it just require simple LinearRegression model"
      ],
      "metadata": {
        "colab": {
          "base_uri": "https://localhost:8080/"
        },
        "id": "Jcqa_5MTNGXS",
        "outputId": "c5d6ee47-d798-454a-db40-09861701cc5a"
      },
      "execution_count": null,
      "outputs": [
        {
          "output_type": "stream",
          "name": "stdout",
          "text": [
            "1/1 [==============================] - 0s 81ms/step\n"
          ]
        },
        {
          "output_type": "execute_result",
          "data": {
            "text/plain": [
              "array([[28.28845]], dtype=float32)"
            ]
          },
          "metadata": {},
          "execution_count": 136
        }
      ]
    },
    {
      "cell_type": "markdown",
      "source": [
        "##Evaluating a model\n",
        "In practice, a typical workflow you'll go through when building neural network is that :\n",
        "* Create a model\n",
        "* Compile the model\n",
        "* Fit the model\n",
        "* Evaluate the model\n",
        "* Repeat until satisfied\n",
        "* Visulaize,Visualize,Visualize"
      ],
      "metadata": {
        "id": "lE5Vfej2N-tv"
      }
    },
    {
      "cell_type": "markdown",
      "source": [
        "\n",
        "*** model.summary()\n",
        "\n",
        "*Totol Parammeters - Total no. of parameters in model\n",
        "\n",
        "*Trainable Parameters - These are the parameters(patterns) the model can update as it trains\n",
        "\n",
        "*Non Trainable Parameters - These parameters aren't updated during training (this is typical when you bring in already learned patterns or parameters from other models during transfer learning)"
      ],
      "metadata": {
        "id": "CUzadHk3qXjy"
      }
    },
    {
      "cell_type": "code",
      "source": [
        "model.summary()\n"
      ],
      "metadata": {
        "colab": {
          "base_uri": "https://localhost:8080/"
        },
        "id": "1kQyW8M7z6Za",
        "outputId": "63bd20fc-b1d1-41f0-de0c-786721677e3d"
      },
      "execution_count": null,
      "outputs": [
        {
          "output_type": "stream",
          "name": "stdout",
          "text": [
            "Model: \"mymodel\"\n",
            "_________________________________________________________________\n",
            " Layer (type)                Output Shape              Param #   \n",
            "=================================================================\n",
            " Input_layer (Dense)         (None, 100)               200       \n",
            "                                                                 \n",
            " Middle_layer (Dense)        (None, 100)               10100     \n",
            "                                                                 \n",
            " Output_layer (Dense)        (None, 1)                 101       \n",
            "                                                                 \n",
            "=================================================================\n",
            "Total params: 10401 (40.63 KB)\n",
            "Trainable params: 10401 (40.63 KB)\n",
            "Non-trainable params: 0 (0.00 Byte)\n",
            "_________________________________________________________________\n"
          ]
        }
      ]
    },
    {
      "cell_type": "code",
      "source": [
        "from tensorflow.keras.utils import plot_model\n",
        "plot_model(model,show_shapes=True)"
      ],
      "metadata": {
        "colab": {
          "base_uri": "https://localhost:8080/",
          "height": 422
        },
        "id": "kxsOCiCo6ENH",
        "outputId": "8a0b037d-40b9-4cff-f9c2-e67bde751074"
      },
      "execution_count": null,
      "outputs": [
        {
          "output_type": "execute_result",
          "data": {
            "image/png": "[encoded data removed]",
            "text/plain": [
              "<IPython.core.display.Image object>"
            ]
          },
          "metadata": {},
          "execution_count": 138
        }
      ]
    },
    {
      "cell_type": "markdown",
      "source": [
        "###Evaluation our model's predictions with regression evaluation metrics\n",
        "Depending on the problem type, there are different evaluation metrics\n",
        "\n",
        "MAE - Mean absolute error, \"on average, how wrong is each of my model's predictions\" tf.metrics.mean_absolute_error(y_test,y_pred)\n",
        "\n",
        "MSE - Mean square error, \"square the average errors\"\n",
        "\n",
        "when you have to compare tensors you must have both variables in tensor form and also having same shape, You can do squeeze or add extra dims"
      ],
      "metadata": {
        "id": "uCWw_vE862k-"
      }
    },
    {
      "cell_type": "markdown",
      "source": [
        " Tensorboard - a compnent of tensorflow for visualization\n",
        "\n",
        " weights and biases - a way to visualize learning of model     \n",
        "\n",
        "** To save the model**\n",
        "\n",
        "two ways to save the model\n",
        "\n",
        "1. savedmodel format\n",
        "2. HDF5 file\n"
      ],
      "metadata": {
        "id": "LmZcx-AI-C0E"
      }
    },
    {
      "cell_type": "code",
      "source": [
        "#By using the SavedModel format\n",
        "model.save(\"demo_regression_model\")"
      ],
      "metadata": {
        "colab": {
          "base_uri": "https://localhost:8080/",
          "height": 158
        },
        "id": "WGQlIYVyqZv3",
        "outputId": "5e080b83-1260-4dad-ed92-1cb5d8db0673"
      },
      "execution_count": 1,
      "outputs": [
        {
          "output_type": "error",
          "ename": "NameError",
          "evalue": "name 'model' is not defined",
          "traceback": [
            "\u001b[0;31m---------------------------------------------------------------------------\u001b[0m",
            "\u001b[0;31mNameError\u001b[0m                                 Traceback (most recent call last)",
            "\u001b[0;32m<ipython-input-1-c9e5417835ab>\u001b[0m in \u001b[0;36m<cell line: 2>\u001b[0;34m()\u001b[0m\n\u001b[1;32m      1\u001b[0m \u001b[0;31m#By using the SavedModel format\u001b[0m\u001b[0;34m\u001b[0m\u001b[0;34m\u001b[0m\u001b[0m\n\u001b[0;32m----> 2\u001b[0;31m \u001b[0mmodel\u001b[0m\u001b[0;34m.\u001b[0m\u001b[0msave\u001b[0m\u001b[0;34m(\u001b[0m\u001b[0;34m\"demo_regression_model\"\u001b[0m\u001b[0;34m)\u001b[0m\u001b[0;34m\u001b[0m\u001b[0;34m\u001b[0m\u001b[0m\n\u001b[0m",
            "\u001b[0;31mNameError\u001b[0m: name 'model' is not defined"
          ]
        }
      ]
    },
    {
      "cell_type": "code",
      "source": [],
      "metadata": {
        "id": "Ab8D0S1qqqby"
      },
      "execution_count": null,
      "outputs": []
    }
  ]
}